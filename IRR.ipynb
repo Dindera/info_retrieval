{
 "cells": [
  {
   "cell_type": "code",
   "execution_count": 1,
   "metadata": {},
   "outputs": [
    {
     "name": "stderr",
     "output_type": "stream",
     "text": [
      "[nltk_data] Downloading package averaged_perceptron_tagger to\n",
      "[nltk_data]     C:\\Users\\chide\\AppData\\Roaming\\nltk_data...\n",
      "[nltk_data]   Package averaged_perceptron_tagger is already up-to-\n",
      "[nltk_data]       date!\n",
      "[nltk_data] Downloading package wordnet to\n",
      "[nltk_data]     C:\\Users\\chide\\AppData\\Roaming\\nltk_data...\n",
      "[nltk_data]   Package wordnet is already up-to-date!\n",
      "[nltk_data] Downloading package stopwords to\n",
      "[nltk_data]     C:\\Users\\chide\\AppData\\Roaming\\nltk_data...\n",
      "[nltk_data]   Package stopwords is already up-to-date!\n",
      "[nltk_data] Downloading package punkt to\n",
      "[nltk_data]     C:\\Users\\chide\\AppData\\Roaming\\nltk_data...\n",
      "[nltk_data]   Package punkt is already up-to-date!\n"
     ]
    },
    {
     "data": {
      "text/plain": [
       "True"
      ]
     },
     "execution_count": 1,
     "metadata": {},
     "output_type": "execute_result"
    }
   ],
   "source": [
    "import pandas as pd\n",
    "import numpy as np\n",
    "import matplotlib.pyplot as plt\n",
    "import seaborn as sns\n",
    "import nltk\n",
    "import string\n",
    "%matplotlib inline\n",
    "\n",
    "from collections import defaultdict\n",
    "from nltk.stem.snowball import EnglishStemmer  # Assuming we're working with English\n",
    "from urllib.request import urlopen\n",
    "from bs4 import BeautifulSoup\n",
    "from nltk.corpus import stopwords\n",
    "from nltk.corpus import wordnet\n",
    "from nltk import pos_tag\n",
    "from nltk.stem import WordNetLemmatizer \n",
    "nltk.download('averaged_perceptron_tagger')\n",
    "nltk.download('wordnet')\n",
    "nltk.download('stopwords')\n",
    "nltk.download('punkt')"
   ]
  },
  {
   "cell_type": "code",
   "execution_count": 70,
   "metadata": {},
   "outputs": [],
   "source": [
    "class Crawler:\n",
    "    \n",
    "    \n",
    "    def manchesterUni_crawler(self, url, data):\n",
    "    \n",
    "        html_ = urlopen(url)\n",
    "        soup = BeautifulSoup(html_, 'lxml')\n",
    "        links = []\n",
    "        for a_tag in soup.find_all('a'):\n",
    "            i = a_tag.get('href')\n",
    "            li = a_tag.find_parent('li')\n",
    "            if type(i) == str and i.find('https://www.research.manchester.ac.uk/portal/') != -1:\n",
    "                links.append(i)\n",
    "        for n in links:\n",
    "            html = urlopen(n)\n",
    "            soup2 = BeautifulSoup(html, 'lxml')\n",
    "            for re_link in soup2.find_all('a'):\n",
    "                atag = re_link.get('href')\n",
    "                if type(atag) == str and atag.find('/projects.html?period=running') != -1:\n",
    "                    html2 = urlopen(atag)\n",
    "                    soup3 = BeautifulSoup(html2, 'lxml')\n",
    "                    divv = soup3.find_all('div', class_ = 'profileinformation')\n",
    "                    for p in divv:\n",
    "                        name = soup2.find(class_ = 'person')\n",
    "                        names = name.text\n",
    "                        if names and p.text:\n",
    "                            data.append([names, n , p.text])\n",
    "    \n",
    "    def newcastleUni_crawler(self, url, data):  \n",
    "        html_ = urlopen(url)\n",
    "        soup = BeautifulSoup(html_, 'lxml')\n",
    "        links = []\n",
    "        for a_tag in soup.find_all('a'):\n",
    "            i = a_tag.get('href')\n",
    "            li = a_tag.find_parent('li')\n",
    "            if type(i) == str and i.find('profile/') != -1:\n",
    "                links.append('https://www.ncl.ac.uk/'+i)\n",
    "        for n in links:\n",
    "                html = urlopen(n)\n",
    "                soup2 = BeautifulSoup(html, 'lxml')\n",
    "                main = soup2.find(id = 'content')\n",
    "                article = main.find('article')\n",
    "                h1 = article.find_all('h1', class_=\"\")\n",
    "                parent_div = article.find('div', class_='contentSeparator tab')\n",
    "                for h2 in article.find_all('h2'):\n",
    "                    if h2.text == 'Research' and h1[0] != '':\n",
    "                        div_res = h2.find_parent('div')\n",
    "                        data.append([h1[0].text, n, div_res.text])\n",
    "    \n",
    "    def birminghamUni_crawler(self, url, data):\n",
    "        html_ = urlopen(url)\n",
    "        soup = BeautifulSoup(html_, 'lxml')\n",
    "        links = []\n",
    "        for a_tag in soup.find_all('a'):\n",
    "            i = a_tag.get('href')\n",
    "            if i is not None and type(i) == str and (i.find('/schools/gees/people/profile.aspx') != -1 or i.find('staff/profiles/eese/') != -1):\n",
    "                links.append('https://www.birmingham.ac.uk'+i)\n",
    "        for n in links:\n",
    "            yourstring = n.encode('ascii', 'ignore').decode('ascii')\n",
    "            html = urlopen(yourstring)\n",
    "            soup2 = BeautifulSoup(html, 'lxml')\n",
    "            main = soup2.find(id='maincontent')\n",
    "            article = main.find('article')\n",
    "            name = article.find('h1', class_='')\n",
    "            staff = article.find(id='staffdetails')\n",
    "            if staff is not None:\n",
    "                for section in staff.find_all('section'):\n",
    "                    if section is not None:  \n",
    "                        h2 = section.find('h2')\n",
    "                        if h2 is not None and h2.text.find('Research') != -1:\n",
    "                            res = section.text\n",
    "\n",
    "            for span in name.find_all('span'):\n",
    "                if span.text in name.text:\n",
    "                    names = name.text.replace(span.text, '')\n",
    "                    data.append([names, n, res])\n",
    "    \n",
    "    def birmingham2(self, data):\n",
    "    \n",
    "        html_ = urlopen('https://www.cs.bham.ac.uk/people/')\n",
    "        soup = BeautifulSoup(html_, 'lxml')\n",
    "        links = []\n",
    "        for a_tag in soup.find_all('a'):\n",
    "            i = a_tag.get('href')\n",
    "            if i is not None and type(i) == str and i.find('staff/profiles/computer-science/') != -1:\n",
    "                 links.append(i)\n",
    "        for m in links:\n",
    "            html__ = urlopen(m)\n",
    "            soup3 = BeautifulSoup(html__, 'lxml')\n",
    "            main1 = soup3.find(id='maincontent')\n",
    "            article1 = main1.find('article')\n",
    "            name = article1.find('h1', class_='')\n",
    "            staff1 = article1.find(id='staffdetails')\n",
    "            if staff1 is not None:\n",
    "                for sections in staff1.find_all('section'):\n",
    "                    h2 = sections.find('h2')\n",
    "                    if h2 is not None and h2.text.find('Research') != -1:\n",
    "                        rese = sections.text\n",
    "                        for span in name.find_all('span'):\n",
    "                            if span.text in name.text:\n",
    "                                prof_name = name.text.replace(span.text, '')\n",
    "                                data.append([prof_name, m, rese])\n"
   ]
  },
  {
   "cell_type": "code",
   "execution_count": 71,
   "metadata": {},
   "outputs": [],
   "source": [
    "crawler = Crawler()\n",
    "\n",
    "urls = ['https://www.ees.manchester.ac.uk/about/people/academic-and-research-staff/',\n",
    "        'https://www.mace.manchester.ac.uk/about/people/academic-and-research-staff/', \n",
    "        'https://www.cs.manchester.ac.uk/about/people/academic-and-research-staff/'\n",
    "       ]  # urls to crawl from Manchester Uni\n",
    "\n",
    "urls1 = ['https://www.ncl.ac.uk/engineering/research/civil/people/#researchstaff',\n",
    "        'https://www.ncl.ac.uk/computing/people/research/', \n",
    "        'https://www.ncl.ac.uk/nes/staff/research/'\n",
    "       ]  # urls to crawl from Newcastle Uni\n",
    "\n",
    "urls2 = ['https://www.birmingham.ac.uk/schools/engineering/about/academic.aspx',\n",
    "        'https://www.birmingham.ac.uk/schools/gees/people/index.aspx', \n",
    "       ]  # urls to crawl from Birmingham Uni\n",
    "\n",
    "dt1 = [] # es\n",
    "dt2 = [] # ce\n",
    "dt3 = [] # cs\n",
    "\n",
    "dt4 = [] #ce\n",
    "dt5 = [] #cs\n",
    "dt6 = [] #es\n",
    "\n",
    "dt7 = [] #ce\n",
    "dt8 = [] #es\n",
    "dt9 = [] #cs\n",
    "\n",
    "crawler.manchesterUni_crawler(urls[0], dt1)\n",
    "crawler.manchesterUni_crawler(urls[1], dt2)\n",
    "crawler.manchesterUni_crawler(urls[2], dt3)\n",
    "\n",
    "crawler.newcastleUni_crawler(urls1[0], dt4)\n",
    "crawler.newcastleUni_crawler(urls1[1], dt5)\n",
    "crawler.newcastleUni_crawler(urls1[2], dt6)\n",
    "\n",
    "crawler.birminghamUni_crawler(urls2[0], dt7)\n",
    "crawler.birminghamUni_crawler(urls2[1], dt8)\n",
    "crawler.birmingham2(dt9)\n",
    "\n",
    "df1 = pd.DataFrame(dt1, columns=['name', 'link', 'research'])\n",
    "df2 = pd.DataFrame(dt2, columns=['name', 'link', 'research'])\n",
    "df3 = pd.DataFrame(dt3, columns=['name', 'link', 'research'])\n",
    "\n",
    "df4 = pd.DataFrame(dt4, columns=['name', 'link', 'research'])\n",
    "df5 = pd.DataFrame(dt5, columns=['name', 'link', 'research'])\n",
    "df6 = pd.DataFrame(dt6, columns=['name', 'link', 'research'])\n",
    "\n",
    "df7 = pd.DataFrame(dt7, columns=['name', 'link', 'research'])\n",
    "df8 = pd.DataFrame(dt8, columns=['name', 'link', 'research'])\n",
    "df9 = pd.DataFrame(dt9, columns=['name', 'link', 'research'])"
   ]
  },
  {
   "cell_type": "code",
   "execution_count": 75,
   "metadata": {},
   "outputs": [],
   "source": [
    "cs_dept = pd.concat([df3, df5, df9], ignore_index=True)\n",
    "ce_dept = pd.concat([df2, df4, df7], ignore_index=True)\n",
    "es_dept = pd.concat([df1, df6, df8], ignore_index=True)"
   ]
  },
  {
   "cell_type": "code",
   "execution_count": 76,
   "metadata": {},
   "outputs": [],
   "source": [
    "def addField(field_data, field = ''):\n",
    "    data_dept = []\n",
    "    \n",
    "    for x in range(len(field_data['name'])):\n",
    "        x = field\n",
    "        data_dept.append(x)\n",
    "    field_data['field'] = data_dept\n",
    "    return field_data"
   ]
  },
  {
   "cell_type": "code",
   "execution_count": 77,
   "metadata": {},
   "outputs": [
    {
     "data": {
      "text/html": [
       "<div>\n",
       "<style scoped>\n",
       "    .dataframe tbody tr th:only-of-type {\n",
       "        vertical-align: middle;\n",
       "    }\n",
       "\n",
       "    .dataframe tbody tr th {\n",
       "        vertical-align: top;\n",
       "    }\n",
       "\n",
       "    .dataframe thead th {\n",
       "        text-align: right;\n",
       "    }\n",
       "</style>\n",
       "<table border=\"1\" class=\"dataframe\">\n",
       "  <thead>\n",
       "    <tr style=\"text-align: right;\">\n",
       "      <th></th>\n",
       "      <th>name</th>\n",
       "      <th>link</th>\n",
       "      <th>research</th>\n",
       "      <th>field</th>\n",
       "    </tr>\n",
       "  </thead>\n",
       "  <tbody>\n",
       "    <tr>\n",
       "      <th>0</th>\n",
       "      <td>Professor Grant Allen</td>\n",
       "      <td>https://www.research.manchester.ac.uk/portal/G...</td>\n",
       "      <td>\\nResearch interestsGrant is currently active ...</td>\n",
       "      <td>es</td>\n",
       "    </tr>\n",
       "    <tr>\n",
       "      <th>1</th>\n",
       "      <td>Professor Grant Allen</td>\n",
       "      <td>https://www.research.manchester.ac.uk/portal/G...</td>\n",
       "      <td>\\nOther researchDoctoral Thesis\\n\\nGrant's PhD...</td>\n",
       "      <td>es</td>\n",
       "    </tr>\n",
       "    <tr>\n",
       "      <th>2</th>\n",
       "      <td>Prof Richard Bardgett</td>\n",
       "      <td>https://www.research.manchester.ac.uk/portal/r...</td>\n",
       "      <td>\\nResearch interestsMy research is broadly con...</td>\n",
       "      <td>es</td>\n",
       "    </tr>\n",
       "    <tr>\n",
       "      <th>3</th>\n",
       "      <td>Dr Stephen Boult</td>\n",
       "      <td>https://www.research.manchester.ac.uk/portal/s...</td>\n",
       "      <td>\\nResearch interestsHydrology and hydrochemist...</td>\n",
       "      <td>es</td>\n",
       "    </tr>\n",
       "    <tr>\n",
       "      <th>4</th>\n",
       "      <td>Prof Terence Brown BSc, PhD, FSA</td>\n",
       "      <td>https://www.research.manchester.ac.uk/portal/e...</td>\n",
       "      <td>\\nResearch interestsBiomolecular Archaeology\\n...</td>\n",
       "      <td>es</td>\n",
       "    </tr>\n",
       "    <tr>\n",
       "      <th>...</th>\n",
       "      <td>...</td>\n",
       "      <td>...</td>\n",
       "      <td>...</td>\n",
       "      <td>...</td>\n",
       "    </tr>\n",
       "    <tr>\n",
       "      <th>184</th>\n",
       "      <td>Dr Martin Widmann</td>\n",
       "      <td>https://www.birmingham.ac.uk/schools/gees/peop...</td>\n",
       "      <td>\\n\\n\\r\\n\\t\\t\\t\\t\\t\\t\\tResearch\\n\\n\\nCurrent re...</td>\n",
       "      <td>es</td>\n",
       "    </tr>\n",
       "    <tr>\n",
       "      <th>185</th>\n",
       "      <td>Dr Jingsha Xu</td>\n",
       "      <td>https://www.birmingham.ac.uk/schools/gees/peop...</td>\n",
       "      <td>\\n\\n\\r\\n\\t\\t\\t\\t\\t\\t\\tResearch\\n\\n\\nCurrent re...</td>\n",
       "      <td>es</td>\n",
       "    </tr>\n",
       "    <tr>\n",
       "      <th>186</th>\n",
       "      <td>Dr Peng Zhang</td>\n",
       "      <td>https://www.birmingham.ac.uk/schools/gees/peop...</td>\n",
       "      <td>\\n\\n\\r\\n\\t\\t\\t\\t\\t\\t\\tResearch\\n\\n\\nEnvironmen...</td>\n",
       "      <td>es</td>\n",
       "    </tr>\n",
       "    <tr>\n",
       "      <th>187</th>\n",
       "      <td>Dr Zhiling Zhiling Guo</td>\n",
       "      <td>https://www.birmingham.ac.uk/schools/gees/peop...</td>\n",
       "      <td>\\n\\n\\r\\n\\t\\t\\t\\t\\t\\t\\tResearch\\n\\n\\nResearch I...</td>\n",
       "      <td>es</td>\n",
       "    </tr>\n",
       "    <tr>\n",
       "      <th>188</th>\n",
       "      <td>Dr Jian Zhong</td>\n",
       "      <td>https://www.birmingham.ac.uk/schools/gees/peop...</td>\n",
       "      <td>\\n\\n\\r\\n\\t\\t\\t\\t\\t\\t\\tResearch\\n\\n\\nResearch I...</td>\n",
       "      <td>es</td>\n",
       "    </tr>\n",
       "  </tbody>\n",
       "</table>\n",
       "<p>189 rows × 4 columns</p>\n",
       "</div>"
      ],
      "text/plain": [
       "                                 name  \\\n",
       "0               Professor Grant Allen   \n",
       "1               Professor Grant Allen   \n",
       "2               Prof Richard Bardgett   \n",
       "3                    Dr Stephen Boult   \n",
       "4    Prof Terence Brown BSc, PhD, FSA   \n",
       "..                                ...   \n",
       "184               Dr Martin Widmann     \n",
       "185                   Dr Jingsha Xu     \n",
       "186                   Dr Peng Zhang     \n",
       "187          Dr Zhiling Zhiling Guo     \n",
       "188                   Dr Jian Zhong     \n",
       "\n",
       "                                                  link  \\\n",
       "0    https://www.research.manchester.ac.uk/portal/G...   \n",
       "1    https://www.research.manchester.ac.uk/portal/G...   \n",
       "2    https://www.research.manchester.ac.uk/portal/r...   \n",
       "3    https://www.research.manchester.ac.uk/portal/s...   \n",
       "4    https://www.research.manchester.ac.uk/portal/e...   \n",
       "..                                                 ...   \n",
       "184  https://www.birmingham.ac.uk/schools/gees/peop...   \n",
       "185  https://www.birmingham.ac.uk/schools/gees/peop...   \n",
       "186  https://www.birmingham.ac.uk/schools/gees/peop...   \n",
       "187  https://www.birmingham.ac.uk/schools/gees/peop...   \n",
       "188  https://www.birmingham.ac.uk/schools/gees/peop...   \n",
       "\n",
       "                                              research field  \n",
       "0    \\nResearch interestsGrant is currently active ...    es  \n",
       "1    \\nOther researchDoctoral Thesis\\n\\nGrant's PhD...    es  \n",
       "2    \\nResearch interestsMy research is broadly con...    es  \n",
       "3    \\nResearch interestsHydrology and hydrochemist...    es  \n",
       "4    \\nResearch interestsBiomolecular Archaeology\\n...    es  \n",
       "..                                                 ...   ...  \n",
       "184  \\n\\n\\r\\n\\t\\t\\t\\t\\t\\t\\tResearch\\n\\n\\nCurrent re...    es  \n",
       "185  \\n\\n\\r\\n\\t\\t\\t\\t\\t\\t\\tResearch\\n\\n\\nCurrent re...    es  \n",
       "186  \\n\\n\\r\\n\\t\\t\\t\\t\\t\\t\\tResearch\\n\\n\\nEnvironmen...    es  \n",
       "187  \\n\\n\\r\\n\\t\\t\\t\\t\\t\\t\\tResearch\\n\\n\\nResearch I...    es  \n",
       "188  \\n\\n\\r\\n\\t\\t\\t\\t\\t\\t\\tResearch\\n\\n\\nResearch I...    es  \n",
       "\n",
       "[189 rows x 4 columns]"
      ]
     },
     "execution_count": 77,
     "metadata": {},
     "output_type": "execute_result"
    }
   ],
   "source": [
    "addField(cs_dept, 'cs')\n",
    "addField(ce_dept, 'ce')\n",
    "addField(es_dept, 'es')"
   ]
  },
  {
   "cell_type": "code",
   "execution_count": 79,
   "metadata": {},
   "outputs": [
    {
     "name": "stdout",
     "output_type": "stream",
     "text": [
      "297\n",
      "64\n",
      "189\n",
      "550\n"
     ]
    }
   ],
   "source": [
    "bigData2 = pd.concat([cs_dept, ce_dept, es_dept], ignore_index=True)\n",
    "print(len(ce_dept))\n",
    "print(len(cs_dept))\n",
    "print(len(es_dept))\n",
    "print(len(bigData2))"
   ]
  },
  {
   "cell_type": "code",
   "execution_count": 26,
   "metadata": {},
   "outputs": [],
   "source": [
    "bigData2 = bigData2.assign(id=(bigData2['name'].astype('category').cat.codes))\n",
    "bigData2.to_csv('crawled_uni.csv')"
   ]
  },
  {
   "cell_type": "code",
   "execution_count": 2,
   "metadata": {},
   "outputs": [
    {
     "data": {
      "text/html": [
       "<div>\n",
       "<style scoped>\n",
       "    .dataframe tbody tr th:only-of-type {\n",
       "        vertical-align: middle;\n",
       "    }\n",
       "\n",
       "    .dataframe tbody tr th {\n",
       "        vertical-align: top;\n",
       "    }\n",
       "\n",
       "    .dataframe thead th {\n",
       "        text-align: right;\n",
       "    }\n",
       "</style>\n",
       "<table border=\"1\" class=\"dataframe\">\n",
       "  <thead>\n",
       "    <tr style=\"text-align: right;\">\n",
       "      <th></th>\n",
       "      <th>Unnamed: 0</th>\n",
       "      <th>name</th>\n",
       "      <th>link</th>\n",
       "      <th>research</th>\n",
       "      <th>field</th>\n",
       "      <th>id</th>\n",
       "    </tr>\n",
       "  </thead>\n",
       "  <tbody>\n",
       "    <tr>\n",
       "      <th>0</th>\n",
       "      <td>0</td>\n",
       "      <td>Prof Sophia Ananiadou</td>\n",
       "      <td>https://www.research.manchester.ac.uk/portal/s...</td>\n",
       "      <td>\\nResearch interestsProf. Ananiadou's main con...</td>\n",
       "      <td>cs</td>\n",
       "      <td>413</td>\n",
       "    </tr>\n",
       "    <tr>\n",
       "      <th>1</th>\n",
       "      <td>1</td>\n",
       "      <td>Dr Richard Banach</td>\n",
       "      <td>https://www.research.manchester.ac.uk/portal/r...</td>\n",
       "      <td>\\nResearch interestsFor accurate and up to dat...</td>\n",
       "      <td>cs</td>\n",
       "      <td>267</td>\n",
       "    </tr>\n",
       "    <tr>\n",
       "      <th>2</th>\n",
       "      <td>2</td>\n",
       "      <td>Prof Gavin Brown</td>\n",
       "      <td>https://www.research.manchester.ac.uk/portal/g...</td>\n",
       "      <td>\\nResearch interestsMachine Learning.\\n</td>\n",
       "      <td>cs</td>\n",
       "      <td>375</td>\n",
       "    </tr>\n",
       "    <tr>\n",
       "      <th>3</th>\n",
       "      <td>3</td>\n",
       "      <td>Dr Ke Chen</td>\n",
       "      <td>https://www.research.manchester.ac.uk/portal/k...</td>\n",
       "      <td>\\nResearch interestsMy general areas of intere...</td>\n",
       "      <td>cs</td>\n",
       "      <td>170</td>\n",
       "    </tr>\n",
       "    <tr>\n",
       "      <th>4</th>\n",
       "      <td>4</td>\n",
       "      <td>Prof Timothy Cootes</td>\n",
       "      <td>https://www.research.manchester.ac.uk/portal/t...</td>\n",
       "      <td>\\nResearch interestsMedical Image Analysis usi...</td>\n",
       "      <td>cs</td>\n",
       "      <td>419</td>\n",
       "    </tr>\n",
       "    <tr>\n",
       "      <th>5</th>\n",
       "      <td>5</td>\n",
       "      <td>Prof Timothy Cootes</td>\n",
       "      <td>https://www.research.manchester.ac.uk/portal/t...</td>\n",
       "      <td>\\nMethodological knowledge\\r\\n\\tComputer Visio...</td>\n",
       "      <td>cs</td>\n",
       "      <td>419</td>\n",
       "    </tr>\n",
       "    <tr>\n",
       "      <th>6</th>\n",
       "      <td>6</td>\n",
       "      <td>Dr Suzanne Embury</td>\n",
       "      <td>https://www.research.manchester.ac.uk/portal/s...</td>\n",
       "      <td>\\nOther research\\nProjects\\n\\n\\nInstitute of C...</td>\n",
       "      <td>cs</td>\n",
       "      <td>314</td>\n",
       "    </tr>\n",
       "    <tr>\n",
       "      <th>7</th>\n",
       "      <td>7</td>\n",
       "      <td>Prof Steve Furber CBE FRS FREng DFBCS FIET CIT...</td>\n",
       "      <td>https://www.research.manchester.ac.uk/portal/s...</td>\n",
       "      <td>\\nResearch interestsAPT Projects\\n</td>\n",
       "      <td>cs</td>\n",
       "      <td>414</td>\n",
       "    </tr>\n",
       "    <tr>\n",
       "      <th>8</th>\n",
       "      <td>8</td>\n",
       "      <td>Prof Carole Goble</td>\n",
       "      <td>https://www.research.manchester.ac.uk/portal/c...</td>\n",
       "      <td>\\nResearch interestsCarole Goble’s research is...</td>\n",
       "      <td>cs</td>\n",
       "      <td>365</td>\n",
       "    </tr>\n",
       "    <tr>\n",
       "      <th>9</th>\n",
       "      <td>9</td>\n",
       "      <td>Prof Anthony Goodacre</td>\n",
       "      <td>https://www.research.manchester.ac.uk/portal/j...</td>\n",
       "      <td>\\nResearch interestsHaving defined and introdu...</td>\n",
       "      <td>cs</td>\n",
       "      <td>359</td>\n",
       "    </tr>\n",
       "  </tbody>\n",
       "</table>\n",
       "</div>"
      ],
      "text/plain": [
       "   Unnamed: 0                                               name  \\\n",
       "0           0                              Prof Sophia Ananiadou   \n",
       "1           1                                  Dr Richard Banach   \n",
       "2           2                                   Prof Gavin Brown   \n",
       "3           3                                         Dr Ke Chen   \n",
       "4           4                                Prof Timothy Cootes   \n",
       "5           5                                Prof Timothy Cootes   \n",
       "6           6                                  Dr Suzanne Embury   \n",
       "7           7  Prof Steve Furber CBE FRS FREng DFBCS FIET CIT...   \n",
       "8           8                                  Prof Carole Goble   \n",
       "9           9                              Prof Anthony Goodacre   \n",
       "\n",
       "                                                link  \\\n",
       "0  https://www.research.manchester.ac.uk/portal/s...   \n",
       "1  https://www.research.manchester.ac.uk/portal/r...   \n",
       "2  https://www.research.manchester.ac.uk/portal/g...   \n",
       "3  https://www.research.manchester.ac.uk/portal/k...   \n",
       "4  https://www.research.manchester.ac.uk/portal/t...   \n",
       "5  https://www.research.manchester.ac.uk/portal/t...   \n",
       "6  https://www.research.manchester.ac.uk/portal/s...   \n",
       "7  https://www.research.manchester.ac.uk/portal/s...   \n",
       "8  https://www.research.manchester.ac.uk/portal/c...   \n",
       "9  https://www.research.manchester.ac.uk/portal/j...   \n",
       "\n",
       "                                            research field   id  \n",
       "0  \\nResearch interestsProf. Ananiadou's main con...    cs  413  \n",
       "1  \\nResearch interestsFor accurate and up to dat...    cs  267  \n",
       "2            \\nResearch interestsMachine Learning.\\n    cs  375  \n",
       "3  \\nResearch interestsMy general areas of intere...    cs  170  \n",
       "4  \\nResearch interestsMedical Image Analysis usi...    cs  419  \n",
       "5  \\nMethodological knowledge\\r\\n\\tComputer Visio...    cs  419  \n",
       "6  \\nOther research\\nProjects\\n\\n\\nInstitute of C...    cs  314  \n",
       "7                 \\nResearch interestsAPT Projects\\n    cs  414  \n",
       "8  \\nResearch interestsCarole Goble’s research is...    cs  365  \n",
       "9  \\nResearch interestsHaving defined and introdu...    cs  359  "
      ]
     },
     "execution_count": 2,
     "metadata": {},
     "output_type": "execute_result"
    }
   ],
   "source": [
    "big_df = pd.read_csv('crawled_uni.csv')\n",
    "big_df.head(10)"
   ]
  },
  {
   "cell_type": "code",
   "execution_count": 3,
   "metadata": {},
   "outputs": [
    {
     "data": {
      "text/plain": [
       "Unnamed: 0                                                  190\n",
       "name                          Dr Maria Sharmina PhD, AMEI, FHEA\n",
       "link          https://www.research.manchester.ac.uk/portal/m...\n",
       "research      \\nResearch interestsEnergy systemsFood-energy-...\n",
       "field                                                        ce\n",
       "id                                                          200\n",
       "Name: 190, dtype: object"
      ]
     },
     "execution_count": 3,
     "metadata": {},
     "output_type": "execute_result"
    }
   ],
   "source": [
    "entry = big_df.loc[190,:].copy()\n",
    "entry"
   ]
  },
  {
   "cell_type": "code",
   "execution_count": 4,
   "metadata": {},
   "outputs": [],
   "source": [
    "class Build_Indexer:\n",
    "    \n",
    "    def __init__(self, posTag, stopwords, lemmatize):\n",
    "        self.posTag = posTag\n",
    "        self.stopwords = stopwords\n",
    "        self.lem = lemmatize\n",
    "    \n",
    "    \n",
    "    def process_word(self, word):\n",
    "        word = word.lower() #to lowercase\n",
    "        word = word.translate(str.maketrans('', '', string.punctuation)) #strip punctuation\n",
    "        word = self.lemma_stop(word)\n",
    "        return word\n",
    "        \n",
    "    def get_word_pos(self, word):\n",
    "        tag = self.posTag([word])[0][1][0].upper() # convert word uppercase\n",
    "        tag_dict = {\"J\": wordnet.ADJ,\n",
    "                    \"N\": wordnet.NOUN,\n",
    "                    \"V\": wordnet.VERB,\n",
    "                    \"R\": wordnet.ADV} #identify word meaning\n",
    "\n",
    "        return tag_dict.get(tag, wordnet.NOUN)\n",
    "        \n",
    "    def lemma_stop(self, doc):\n",
    "        stop = self.stopwords.words('english') # get english stopwords from lib \n",
    "\n",
    "        tokens = nltk.word_tokenize(doc) # tokenize the word\n",
    "        string = \"\"\n",
    "        for n in tokens: \n",
    "            if n not in stop: #check if word is a stopword\n",
    "                string += self.lem.lemmatize(n, self.get_word_pos(n)) + \" \" #lemmatize word\n",
    "        return string \n",
    "    \n",
    "    def transform_data(self, df):\n",
    "        df = df\n",
    "        df['name'] = df['name'].apply(self.process_word) # process each name in document\n",
    "        df['research'] = df['research'].apply(self.process_word) #process each research entry\n",
    "        df['text'] = df['name'] + \" \" + df['research'] \n",
    "        drop_cols = ['name', 'link', 'research']\n",
    "        df = df.drop(drop_cols, axis=1)\n",
    "        return df\n",
    "    \n",
    "    def index_entry(self, entry, index):\n",
    "        words = entry.text.split() #split the words in an entry\n",
    "        Id = entry['id']\n",
    "        \n",
    "        for word in words:\n",
    "            if word in index.keys(): # check if word is in keys\n",
    "                  if Id not in index[word]:\n",
    "                        index[word].append(Id) # add word to specific id\n",
    "            else:\n",
    "                index[word] = [Id]\n",
    "        return index\n",
    "    \n",
    "    def index_data(self, df, index): # get index of the whole data\n",
    "        for i in range(len(df)):\n",
    "            entry = df.loc[i,:]\n",
    "            index = self.index_entry(entry = entry, index = index) #index each entry\n",
    "        return index\n",
    "    \n",
    "    def index_build(self, df, index): #buid the final inverted index of the data\n",
    "        add = self.transform_data(df)\n",
    "        index = self.index_data(df = add, index = index)\n",
    "        return index\n",
    "    \n",
    "\n"
   ]
  },
  {
   "cell_type": "code",
   "execution_count": 5,
   "metadata": {},
   "outputs": [
    {
     "data": {
      "text/plain": [
       "'dr maria sharmina phd amei fhea '"
      ]
     },
     "execution_count": 5,
     "metadata": {},
     "output_type": "execute_result"
    }
   ],
   "source": [
    "lem = WordNetLemmatizer()\n",
    "indexer = Build_Indexer(pos_tag, stopwords, lem)\n",
    "\n",
    "indexer.process_word(entry['name'])"
   ]
  },
  {
   "cell_type": "code",
   "execution_count": 7,
   "metadata": {},
   "outputs": [
    {
     "name": "stdout",
     "output_type": "stream",
     "text": [
      "Wall time: 11 ms\n"
     ]
    },
    {
     "data": {
      "text/plain": [
       "'jud hghk ugjhl '"
      ]
     },
     "execution_count": 7,
     "metadata": {},
     "output_type": "execute_result"
    }
   ],
   "source": [
    "%time indexer.process_word('JUD, HGHK,  UGJHL')"
   ]
  },
  {
   "cell_type": "code",
   "execution_count": 7,
   "metadata": {},
   "outputs": [],
   "source": [
    "big_processed = big_df.copy()"
   ]
  },
  {
   "cell_type": "code",
   "execution_count": 8,
   "metadata": {},
   "outputs": [],
   "source": [
    "big_processed['text'] = big_processed['name'] + \" \" + big_processed['research']\n",
    "drop_cols = ['name', 'link', 'research', 'field']\n",
    "big_processed = big_processed.drop(drop_cols, axis=1)"
   ]
  },
  {
   "cell_type": "code",
   "execution_count": 15,
   "metadata": {},
   "outputs": [
    {
     "name": "stdout",
     "output_type": "stream",
     "text": [
      "{'Dr': [170], 'Ke': [170], 'Chen': [170], 'Research': [170], 'interestsMy': [170], 'general': [170], 'areas': [170], 'of': [170], 'interest': [170], 'are': [170], 'artificial': [170], 'intelligence': [170], 'and': [170], 'computational': [170], 'cognitive': [170], 'science.': [170], 'In': [170], 'particular,': [170], 'I': [170], 'have': [170], 'been': [170], 'working': [170], 'in': [170], 'machine': [170], 'learning,': [170], 'pattern': [170], 'recognition,': [170], 'perception,': [170], 'systems': [170], 'their': [170], 'applications': [170], 'intelligent': [170], 'system': [170], 'development': [170], 'for': [170], 'over': [170], 'three': [170], 'decades.': [170], 'With': [170], 'the': [170], 'aforementioned': [170], 'fundamental': [170], 'researches,': [170], 'am': [170], 'keen': [170], 'on': [170], 'developing': [170], 'effective': [170], 'efficient': [170], 'techniques': [170], 'real': [170], 'world': [170], 'applications.': [170], 'For': [170], 'my': [170], 'current': [170], 'research': [170], 'topics,': [170], 'please': [170], 'visit': [170], 'Interest': [170], 'page.': [170], 'further': [170], 'information': [170], 'interests,': [170], 'Publication': [170]}\n"
     ]
    }
   ],
   "source": [
    "entry = big_processed.loc[3,:].copy()\n",
    "\n",
    "ind = indexer.index_entry(entry=entry, index= {})\n",
    "print(ind)"
   ]
  },
  {
   "cell_type": "code",
   "execution_count": 9,
   "metadata": {},
   "outputs": [
    {
     "data": {
      "text/plain": [
       "23540"
      ]
     },
     "execution_count": 9,
     "metadata": {},
     "output_type": "execute_result"
    }
   ],
   "source": [
    "ind_all = indexer.index_data(big_processed, index = {})\n",
    "len(ind_all)"
   ]
  },
  {
   "cell_type": "code",
   "execution_count": 10,
   "metadata": {},
   "outputs": [],
   "source": [
    "idx = indexer.index_build(df= big_df, index = {})\n",
    "#print(idx)"
   ]
  },
  {
   "cell_type": "code",
   "execution_count": null,
   "metadata": {},
   "outputs": [],
   "source": []
  },
  {
   "cell_type": "code",
   "execution_count": 11,
   "metadata": {},
   "outputs": [],
   "source": [
    "import gensim\n",
    "\n",
    "word2vec = gensim.models.KeyedVectors.load_word2vec_format('C:/Users/chide/OneDrive/Desktop/Info Retrieval/GoogleNews-vectors-negative300.bin.gz', binary=True)"
   ]
  },
  {
   "cell_type": "code",
   "execution_count": 12,
   "metadata": {},
   "outputs": [],
   "source": [
    "class Query_Index:\n",
    "    \n",
    "    def __init__(self, wordVec, indexer, bigD, index):\n",
    "        self.wordVec = wordVec\n",
    "        self.indexer = indexer\n",
    "        self.bigD = bigD\n",
    "        self.index = index\n",
    "  \n",
    "    def process_query(self, query):\n",
    "        normalize = indexer.process_word(query)\n",
    "        return normalize.split()\n",
    "    \n",
    "    def get_vec_av(self, wordVec, doc):\n",
    "        wordVec = self.wordVec\n",
    "        doc = [word for word in doc if word in wordVec.vocab]\n",
    "        if len(doc) == 0:\n",
    "            return np.zeros(300)\n",
    "        else:\n",
    "            return np.mean(wordVec[doc], axis=0) \n",
    "        \n",
    "    def prepare_for_ranking(self, df):\n",
    "        corpus = df[['id', 'research']].copy()\n",
    "        doc_vecs = {}\n",
    "        for i in range(len(corpus)):\n",
    "            row = corpus.loc[i,:]\n",
    "            text = row.research.split()\n",
    "        doc_vecs[row.id]= self.get_vec_av(self.wordVec, text)\n",
    "        doc_vecs = pd.DataFrame.from_dict(data=doc_vecs, orient=\"index\")\n",
    "        doc_vecs['id'] = doc_vecs.index\n",
    "        return doc_vecs\n",
    "    \n",
    "    \n",
    "    def lists_intersection(self, lists):\n",
    "        intersect = list(set.intersection(*map(set, lists)))\n",
    "        intersect.sort()\n",
    "        return intersect\n",
    "    \n",
    "    def search_en(self, query, index):\n",
    "        index = self.index\n",
    "        query_split = self.process_query(query)\n",
    "        retrieved = []\n",
    "        for word in query_split:\n",
    "            if word in index.keys():\n",
    "                retrieved.append(index[word])\n",
    "            if len(retrieved)>0:\n",
    "                result = self.lists_intersection(retrieved)\n",
    "            else:\n",
    "                result = [0]\n",
    "        return result\n",
    "    \n",
    "    def connect_id(self, retrieved_ids, df):\n",
    "        \n",
    "        return df[df['id'].isin(retrieved_ids)].reset_index(drop=True)\n",
    "    \n",
    "    def search_query(self, query):\n",
    "        result_id = self.search_en(query, self.bigD)\n",
    "        results = self.connect_id(result_id, self.bigD)\n",
    "        results = self.rank_results(query, results)\n",
    "        self.print_results(results)\n",
    "            \n",
    "    def cos_similarity(self, a, b):\n",
    "        dot = np.dot(a, b)\n",
    "        norma = np.linalg.norm(a)\n",
    "        normb = np.linalg.norm(b)\n",
    "        cos = dot / (norma * normb)\n",
    "        return(cos)\n",
    "    \n",
    "    def rank_results(self, query, results):\n",
    "        query_norm = self.process_query(query)\n",
    "        query_vec = self.get_vec_av(self.wordVec, query_norm)\n",
    "        res_vecs = self.connect_id(results['id'], self.prepare_for_ranking(self.bigD))\n",
    "        cos_array = []\n",
    "        for i in range(len(res_vecs)):\n",
    "            doc_vec = res_vecs.loc[i,:].drop(['id'])\n",
    "            cos_array.append(self.cos_similarity(doc_vec, query_vec))\n",
    "            results['rank'] = cos_array\n",
    "            results = results.sort_values('rank', axis=0, ascending=True)\n",
    "        return results\n",
    "    \n",
    "    def print_results(self, result_df):\n",
    "        for i in range(len(result_df)):\n",
    "            res = result_df.loc[i, :]\n",
    "            print(res['name'])\n",
    "            print(res['research'])\n",
    "            print(res['field'])\n",
    "            if i == len(result_df):\n",
    "                print(res.link)\n",
    "            else:\n",
    "                print(\"{}\\n\" .format(res.link))"
   ]
  },
  {
   "cell_type": "code",
   "execution_count": 13,
   "metadata": {},
   "outputs": [],
   "source": [
    "big_D = big_df.drop(['text'], axis=1).copy()\n",
    "\n",
    "idx = indexer.index_build(df= big_df, index = {})"
   ]
  },
  {
   "cell_type": "code",
   "execution_count": 16,
   "metadata": {},
   "outputs": [
    {
     "name": "stdout",
     "output_type": "stream",
     "text": [
      "Wall time: 1.96 ms\n"
     ]
    }
   ],
   "source": [
    "query_in = Query_Index(word2vec, indexer, big_D, idx)\n",
    "\n",
    "words = entry.text.split()\n",
    "\n",
    "%time test_vec = query_in.get_vec_av(word2vec, words)"
   ]
  },
  {
   "cell_type": "code",
   "execution_count": 17,
   "metadata": {},
   "outputs": [],
   "source": [
    "doc_vecs = query_in.prepare_for_ranking(df=big_D)"
   ]
  },
  {
   "cell_type": "code",
   "execution_count": 18,
   "metadata": {},
   "outputs": [
    {
     "name": "stdout",
     "output_type": "stream",
     "text": [
      "User query: Computer.\n",
      "Normalized query: computer .\n"
     ]
    }
   ],
   "source": [
    "test = \"Computer\"\n",
    "print(\"User query: {}.\" .format(test))\n",
    "test_norm = indexer.process_word(test)\n",
    "print(\"Normalized query: {}.\" .format(test_norm))"
   ]
  },
  {
   "cell_type": "code",
   "execution_count": null,
   "metadata": {},
   "outputs": [],
   "source": []
  },
  {
   "cell_type": "code",
   "execution_count": 19,
   "metadata": {},
   "outputs": [
    {
     "name": "stdout",
     "output_type": "stream",
     "text": [
      "[2, 14, 106, 112, 117, 143, 186, 210, 238, 239, 318, 336, 353, 354, 355, 356, 357, 358, 359, 360, 361, 362, 363, 364, 365, 366, 367, 368, 369, 370, 371, 372, 373, 374, 375, 376, 377, 378, 379, 380, 381, 382, 383, 384, 385, 386, 387, 388, 389, 390, 391, 392, 393, 394, 395, 396, 397, 398, 399, 400, 401, 402, 403, 404, 405, 406, 407, 408, 409, 410, 411, 412, 413, 414, 415, 416, 417, 418, 419, 420, 421, 422, 423, 424, 425, 431, 443, 448, 455, 459, 461]\n"
     ]
    }
   ],
   "source": [
    "results = query_in.search_en(\"prof\", idx)\n",
    "print(results)"
   ]
  },
  {
   "cell_type": "code",
   "execution_count": 20,
   "metadata": {},
   "outputs": [
    {
     "name": "stdout",
     "output_type": "stream",
     "text": [
      "Enter search term: Geology\n",
      "dr jaime amezaga \n",
      "researchresearch interest sustainable management natural resource infrastructure integrate land water management environmental management institution regulation policy interface researchpolicy sociotechnical system transition develop country stakeholder involvement management multidisciplinary research postgraduate supervision daryl hughes understand communicate impact water resource infrastructure removal stream engd united utility 2017expected 2021kenneth agbo model development management strategy minimise erosion imo state eastern nigeria tetfund 2015 expect 2018dominic carver ennerdale water upper river ehen natural hydrological regime geomorphology stream engd united utility 2015expected 2019muhammad rezki enhance resilience transportation network around merapi volcano tephra fall spn indonesiaendo 20142018ursula balderson environmental conflict south america esrc north east doctoral training centre sociologycivil engineering 20132018 darren shako “ sanitation policy caribbean provide structure building sustainability inform post mdg action ” commonwealth scholarship commission 20132017ambisisi ambituuni “ risk management downstream oil gas supply chain structure nigeria ” petroleum technology development fund 20122016ruth kennedywalkerplanning implementation wastewater collection treatment reuse periurban area epsrc civil engineering 20112015misgun kahsu food security policy implementation process effectiveness ground level ethiopia niresplanet earth institute 20112017 interruptioned byers “ long term interdependent infrastructure planning ” epsrc civil engineering 20102015pablo mendez “ facilitate transition towards adaptive governance management estuarine socioecosystems institutional analysis action research doñana region ” imedeauniversity baleares spain part time 20062014 gerardo gonzalez “ environmental assessment underground coal gasification ” swan institute 20072013mukhtar hashemi “ sociotechnical framework implement integrate water resource management paradigm iran ” civil engineering sandwich programme iran 20072012jen harrison “ sustainability assessment bioenergy develop country ” interdisciplinary civil engineering geography staff regulation 20062011floriane clement ” multilevel analysis forest policy northern vietnam upland people institution discourse ” interdisciplinary civil engineering geography 20042008 external examiner prof elinor ostrom nobel prize economy 2009 research project ukri gcrf water security sustainable development hub 20192024 £177m 12 partner country 55 partner organisation uk academic partner leeds oxford south america east africa south central asia south east asia deputy director chair ethic committee leader impactukri gcrf living delta hub 20192024 £153m13 partner country 39 partner organisation south south east asia coiwireepsrc centre doctoral training water infrastructure resilience epsrc 20192027 academic partnership cranfieldcoordinator sheffield newcastle industry coistream ii epsrc centre doctoral training engineering water sector epsrc £555k industry £460k 20142022 academic partnership cranfieldcoordinator sheffield imperial college exeter newcastle industrial partner northumbrian water scottish water united utility severn trent newcastle pistream industrial doctorate centre uk water sector epsrc £11m industry £484k 20092018 academic partnership cranfieldcoordinator sheffield imperial college exeter newcastle industrial partner northumbrian water scottish water united utility yorkshire water severn trent wrc newcastle pipromoting integral management water resource three watershed peru cafod per280 £83k 20122018 pidesafio “ democratisation water sanitation governance mean sociotechnical innovation ” ec 7th framework programme cpfpsica grant agreement n° 320303 ssh2012212social innovation vulnerable population £1m 20132015 brazil colombia argentina portugal uk coi project advisor httpdesafioglobalorga global solution protect water transform waste epsrc 886k total 20112015 glasgow sheffield id cranfield ulster newcastle pideveloping science base international ngo promote sustainability southsouth cooperation planet earth institute £72k 20112015 piamgraf adaptive management groundwater resource small scale irrigation subsaharan africa nerc nel0020191 £66k jul 2013jul 2014 iwmi csir ra csir ghana coibiodesalination cell tap epsrc 999k total 20112014 glasgow robert gordon sheffield imperial college london newcastle pimitigation risk emerge hazard integration field training energyconserving waste treatment nextgeneration sequence technology epsrc impact award newcastle university£278 k 201112 coireimpact “ rural energy production bioenergy project ” ec europeaid £12m 20072010 south africa uganda india china austria uk project coordinator pi httpresearchnclacukreimpactcaminar “ catchment management mining impact arid semiarid south america ” ec 6th framework programme inco dev £12 20072010 peru bolivia chile portugal spain uk project coordinator pi httpwwwlabororgpecaminarindexenphpidproyecto1 “ environmental engineer tomorrow develop share tool box collaboration ” epsrc 180 k 20072009 iitd glasgow newcastle project coordinator piepic force “ evidencebased policy integrate control forest river catchment extreme rainfall snowmelt ” ec 6th framework programme inco dev £113m 20052008 costa rica ecuador chile argentina spain italy uk coi support project coordinationcaracoles “ support implementation adaptive management low guadalquivir doñana natural reserve restoration finca caracoles ” imedea 20052008 piermisa “ environmental regulation mine water south america ” ec 6th framework programme inco dev £67k 2006 peru uk project coordinator pi “ socioeconomic impact market opportunity associate land use hydrological change tropical montane cloud forest area arenal costa rica ” frp project fund dfid renewable natural resource strategy £352k 20032006 coilowflows “ low base flow livelihood india ” frp project fund dfid renewable natural resource strategy £340k 20022006 iitd winrock international newcastle coi project managerflows coordination unit fund dfid renewable natural resource strategy dfids contribution un year mountain 2002 20022006 south africa tanzania grenada costa rica india netherlands uk coi urbem “ urban river basin enhancement method ” european commission fifth framework £56k 20022005 piermite “ environmental regulation mine water eu ” european commission fifth framework £830k 2001 2004 sweden germany spain slovenia netherlands bosniaherzegovina uk project coordinatortocsam “ towards continuous strategic asset management ” northumbrian water limited 67k 19992000 pi “ river ouseburn strategy scoping study ” newcastle city council £5k 2002 pi “ evaporation climate data service scoping project ” environment agency north west region £5k 19981999 coi esteem indicatorexternal lecturer ma sustainable water resource institute environmental engineering eth zurich 2012dateinvited reviewer nwo domain science netherlands organisation scientific research nwo 2017invited lecturer short course public health impact environmental hazard pollution monitoring adaptation indian institute public health hyderabad 711 december 2015invited reviewer swedish research council formas 2014 2015member global scientific committe planet earth institute 20122013 invite keynote speaker true value water global leakage summit london business conference 1114 march 2013 londonkeynote speaker rio 20 uncsd official side event “ partnership fair science africa ” rio de janeiro 21 june 2012 invite keynote speaker agua minería sostenible forum la academia el desarrollo del país en el ámbito de la intervenciones antropológicas en zona protegidas ” organise universidad de cuenca universidad del azuay uda universidad politécnica salesiana ups cuenca ecuador 17 october 2012invited keynote speaker value water sustainable future environment waterloss uk birmingham 27 march 2012invited expert british council pmi2 global partnership knowledge economy research symposium water security management 1921 march 2011 muscat omaninvited keynote speaker el agua en la gestion sostenible de la mineria retos para el sector la instituciones agua 2011 ecosistemas sociedad visiones limites aplicaciones de los servicios ecosistemicos en un mundo cambiante cali colombia 15th november 2011best paper award international water resource association paper publish water international 2010 bathurst jc amezaga j cisneros f gaviño novillo iroumé lenzi mintegui aguirre j miranda urciuolo 2010 forest flood latin america science management policy epic force project water international 352 114131invited keynote speaker “ sustainable water management mining ” sustainable mining africa round table smart angolan ministry geology mining industry planet earth institute un commission sustainable development luanda angola 19th november 2010invited expert colciencias government colombia universidad del valle run thematic workshop environmental technologyhealth european commission framework programme cali colombia 1215 october 2010 invite expert european commission latin americaneuropean workshop environment eularinet bogotá colombia november 1820 2009 “ technical review mine closure plan mine closure implementation minerales entre mare san martin mine honduras ” cafod mayseptember 2009deputy hsbc professor energy environment delivery group participation hsbc partnership environmental innovation direct link hsbcs corporate social responsibility function 20058deputy head hero group winner queen anniversary prize high education 2005 newcastle universitytechnical advisor wwf global freshwater programme europe co wwf european policy office epo mining waste water 200205invited speaker meeting dialogue group mining sustainable development lima peru 21 september 2006 group include around 60 representative industry government ngo international organisation involve mining sector perucoorganizer state workshop towards implement sustainable watershed management strategy madhya pradesh mp ministry rural development bhopal india 67 february 2006 attend chief minister mp minister panchayat rural development 300 participantsinvited speaker sciencepolicy interface workshop “ link community ecosystem ecology recent advance future challenge ” final conference linkecol programme european science foundation palma de mallorca spain may 1821 2004coorganizer key note speaker state workshop towards implement environmentally sustainable water policy himachal pradesh hp state council science technology environment shimla india 28th august 2004 attend chief minister himachal pradesh minister water resource 140 participant state central organisationsinvited technical expert exchange view propose directive management waste extractive industry com 2003319 council presidency commission dg environment dg enterprise environmental committee european parliament ngo industry european parliament brussels 3 november 2003 \n",
      "ce\n",
      "https://www.ncl.ac.uk//engineering/staff/profile/jaimeamezaga.html\n",
      "\n",
      "dr colin davie \n",
      "researchresearch interest constitutive behaviour multifield problem flow form conductivity thermal electrical etc porous fracture geomaterialsfully couple hygrothermalmechanical model concrete expose elevate temperature application nuclear power plant structure fire etccoupled model multiphase fluid flow ground application slope stability electrokinetics ground source energy etccoupled model thermal behaviour ground application ground source energy nuclear waste disposal tunnel fire etcdiscrete element representation couple multifield problemsnovel application porous medium model scheme actively recruiting postgraduate research student area interest project list school page indicative potential project mean exhaustive please contact discussionorcidresearchgategoogle scholaracademiaeduresearch project fundingcactus climate adaptation control technology urban space epsrc epr0058341 £280k £17m coi jan 2018 dec 2022safe barrier system approach engineer barrier epsrcnda epi0364271 £208k £13m coinu pi sept 2012 sept 2016epsrc small equipment grant £10k 2012university epsrc impact award epsrc £12k pi 2011msc engineering geology master training grant mtg nerc neh52592x1 £125k pi 2009 2011msc enviro biogeochemistry master training grant mtg nerc neh5259381 £125k coi 20092001an advanced numerical tool prediction analysis spalling concrete structure expose combine thermal mechanical load epsrc epe0489351 £201k pi sept 2007july 2010thermomechanical behaviour concrete high temperature – epsrchalcrow group ltd casecan0671 £20k pi nov 2006nov 2009management monitoring treatment mine working networkrail £63k coi – apr 2005mar2008travel grant – raeng pi £500 2006 postgraduate supervisionpeter helm void migration shallow mine working complete 2011chris robson thermomechanical behaviour concrete high temperature complete 2012carlaleanne washbourne engineering soil create carbon sink complete 2014ross stirling crack engineer soil compact fill complete 2014chris davy investigation geotechnical physicochemical behaviour steelclay interface engineer barrier system geological disposal radioactive wastesoboho eminue crack development mechanism clay embankmentsalfred opukumo ground remediation technique mitigation crack esteem indicatorsmember geotechnique assessor panel 2016 2018reviewer high impact international journal across concrete research geotechnical engineering disciplinesreviewer epsrc responsive mode first grant proposalsinvited presentation – computational fracture model workshop – durham university 2016member scientific committee 4th international workshop concrete spalling due fire exposure leipzig germany 2015member rilem technical committee 256spf spalling concrete due fire test model 2013presentmember scientific committee 3rd international workshop concrete spalling due fire exposure paris france 2013chair coorganiser nafems seminar concrete fire effect heat concrete disseminate research industry 2011member scientific committee 2nd international workshop concrete spalling due fire exposure tu delft netherlands 2011invited session chair presenter european conference computational mechanic paris 2010invited presentation – intl workshop geoenvironmental engineering wuhan china 2009invited speaker structure fire forum sheffield university 2009member scientific committee 1st international workshop concrete spalling due fire exposure leipzig germany 2009invited member rilem technical committee 227hpb physical property behaviour highperformance concrete high temperature sole uk representative 20082014mike crisfield prize computational mechanic 2004prize best paper computational mechanic studentacme 2002scottish geotechnical group trophy 2001prize best paper computational mechanic student runnerupacme 2001 \n",
      "ce\n",
      "https://www.ncl.ac.uk//engineering/staff/profile/colindavie.html\n",
      "\n",
      "dr jean hall \n",
      "researchresearch interest dr hall ’ research interest focus three main theme geotechnical implication legacy coal mining particular application understand presence co2 near surface environment ability ass change insitu engineering property material response conductivity driver implementation use ekg cross discipline application dewatering stabilisation material current research industryfocussed collaborates strongly try solve ‘ real ’ problem experienced practitioner engineering geology industry expertise field application experimental research concept proof industry example current research progress project terraconsult ltd environmental consultancy co2 near surface environment electrokinetic ltd university spinout company use ekg dewatering waste product aggregate industry rockfall hazard appraisal system different project research supervision always interested discuss opportunity postgraduate study within group list project currently offer found wwwcegnclacukgestpostgradphdprojectshtm also open discuss potential project funding may secure variety source include annual competition research council fundingesteem indicator northern geological group committee member 2007 – present member international society soil mechanic geotechnical engineering committee geoengineering education current keynote speaker geo environmental workshop innovation collaboration march 2009 invite seminar ekg tsinghua university china march 2009 invite reviewer geological society cpd course invite minsoc geological society lead respective field trip coal mining operational site part conference visit bicentennial activitiescurrent fund project carbon dioxide degas coal mine water £19150 coal authority 20112012 characterisation carbon dioxide near surface ground gas environment £18000 terraconsult ltd 2011–2014 support phd studentship \n",
      "ce\n",
      "https://www.ncl.ac.uk//engineering/staff/profile/jeanhall.html\n",
      "\n",
      "professor zhenhong li \n",
      "researchi always look enthusiastic professionally curious phd student academic background geomaticsgeoinformatics geophysics geology electrical engineering mathematics physic interested satellite geodesy geophysical engineering application please contact zhenhonglinewcastleacukif phd interested join research group also happy discus assist application fellowship eg nerc epsrc royal society newton internationalukchina science innovation forum royal society london 6 december 2018 innogst sina newcastle university paficunited nation office disaster risk reduction unisdr satellite use early warn system landslide 03 july 2017 also see uk comet science newsline space daily china daily nation thailand european space agency success chinese radar mission first interferograms gaofen3 also see casc economic daily scitech daily peoplecn comet 25 march 2017 theguardian beijing fall china capital sinking 11cm year satellite study warns 24 june 2016 bbc news mapping planet ups down 22 august 2013 herald scotland mountain growth measure 7 may 2012research in‌terests principal research interest include use interferometric synthetic aperture radar insar global navigation satellite system gnss monitoring change earth ’ surface geophysical engineering application earthquake volcano landslide city subsidence specialize development advanced space geodesy technique precise deformation mapping insar atmospheric correction model generic atmospheric correction online service insar gacosadvanced insar time series techniquesground base sar gbsarhighrate gnss data processingremote sensingsatellite gravity grace coseismic gravity changesearthquake fault geometry slip distribution constrain geodetic measurementscontinental deformationlandslides slope instabilityground subsidence river delta structural deformation dam building railway motorwaysatmospheric water vapour spatiotemporal variationsenvironmental change eg lake water level change coastal erosion flood mapping aerosol monitoringearth observation gnss remote sense sensor precision agriculturefree online service generic atmospheric correction online service insar gacosmultignss precise point position online service mp3imaging geodesy research teamcurrent postgraduate student marine roger phd candidategauhar meldebekova phd candidate hui luo phd candidatejulian austin phd candidatechuang song phd candidaterobert bob elliott phd candidate base durham university research scientistsfellowsassociatesassistants dr chen yu may 2019 presentdr ruya xiao oct 2018 oct 2020dr yongsheng li mar 2019 mar 2020dr yuande yang sep 2019 aug 2020past research fellowsassociatesassistantsms jiajun chen georamp ra sep 2017 sep 2018ms gauhar meldebekova georamp ra jun 2018 apr 2018 dr zhenhai li pafic pdra jan 2017 aug 2018 assistant professor nercita chinadr julia stockamp georamp ra sep 2017 jul 2018dr jing guo pafic pdra nov 2016 jan 2018 lecturer wuhan universitydr jianqi zhuang cedrric pdra jan 2017 oct 2017 professor changan universitydr paola crippa comet pdra october 2014 july 2017 assistant professor university notre dame aug 2017 presentdr jing guo pumic pdra nov 2015 mar 2016 lecturer wuhan universitydr yang hao pumic pdra nov 2015 mar 2016 assistant professor nercitamr andrew singleton university glasgowmr david milodowski university edinburghdr cem kincal associate professor dokuz eylül university turkey past phd studentsdr zheng wang 2019dr chen yu 2019dr yasir alhusseinawi 2018dr julia stockamp 2018dr keren dai 2017 cosupervisordr haval sadeq 2015dr wanpeng feng 2014dr andrew singleton 2014dr zhiwei zhou 2013dr peng li 2013 cosupervisordr peng liu 2012dr yangmao wen 2009 cosupervisor past visit professorsscientistsresearchersinterns prof yanxiong liu first institute oceanography soa china 2008dr william hammond university neveda reno 2010dr xiaoqing pi jet propulsion laboratory caltech 2010dr yangmao wen associate professor wuhan university 20082009 20132014dr wei qu lecturer changan university 2010dr chengsheng yang lecturer changan university 2010dr yang liu phd student wuhan university 2010dr roberto tomás jover associate professor university alicante spain junoct 2011ms marielaure bachschmidt msc intern university strasburg 2012mr simon taussig msc intern ensg 2012dr sergio fernandez postdoc dlr 2012ms qiong li phd intern wuhan university 2012dr yongsheng li phd student institute crustal dynamic china earthquake administration 2012dr peng li phd student wuhan university 2012prof jingfa zhang institute crustal dynamic china earthquake administration nov 2012 may 2013dr dominique derauw centre spatial de liège belgium april 2013prof peijun du nanjing university august september 2013dr juqing zhang changan university september december 2013dr lianying li wuhan university march 2013 march 2014dr xiaolan xu wuhan university march 2013 march 2014prof jingfa zhang institute crustal dynamic china earthquake administration august september 2014dr mahdi motagh helmholtz center potsdam gfz november 2014prof tao li wuhan university january december 2014dr mi chen capital normal university july 2014 july 2015dr guifang zhang institute geology china earthquake administration august 2014 august 2015 mr leyin hu earthquake administration beijing municipality cea september 2014 august 2015dr roberto tomás jover professor university alicante spain june august 2015dr lixia gong institute crustal dynamic china earthquake administration jan 2016 jan 2017dr anxi yu national university defence technology aug 2016 jan 2017dr yang liu wuhan university mar 2016 mar 2017dr tengteng qu tongji university dec 2016 mar 2017 aug 2017 sep 2017dr na li beihang university dec 2016 dec 2017mr shuai jiao capital normal university sep 2017 jan 2018dr bingqian chen jiangsu normal univeristy jan 2017 jan 2018 mar apr 2018prof jyrching hu national taiwan university oct 2017 feb 2018dr ka zhang nanjing normal university mar 2017 mar 2018dr haibin luo nanjing university information science technology mar 2017 mar 2018prof sichun long hunan university science technology jul 2017 jun 2018dr xiaoqing chai changan university sep oct 2018dr lifu chen changsha university science technology aug 2018 aug 2019dr peng li ocean university china jun aug 2019mr hongbo yu south china agricultural university oct 2018 oct 2019dr panpan tang institute remote sense digital earth chinese academy science nov 2018 nov 2019research grant remote sense decision support apple tree precision management production global traceability redapple bbsrcinnovate uk 20192022webbased natural damburst flood hazard assessment forecasting system weact nerc 20182020sentinels wheat stfcnsfc newton agritech joint programme 20172019 pafic precision agriculture familyfarms china stfcnsfc newton agritech joint programme 20162019communitybased earthquake disaster risk reduction china cedrric integrate local scientific knowledge planning preparedness nercesrcnsfc newton fund increase resilience natural hazard earthquake prone region china irnhic 201601201812dragon4 earth observation geohazard monitoring risk assessment european space agency ministry science technology china 20162020building resilience multisource flood southsoutheast asia technologyinformed communitybased approach rematch nerc global challenge research fund building resilience 20162017drierchina drought resilience ecosystem service rural community china nerc global challenge research fund building resilience 20162017 centre observation model earthquake volcano tectonics comet natural environment research council nerc 20142019looking inside continent space lics insight earthquake hazard crustal deformation natural environment research council nerc large grant lead pi prof barry parson tim wright pi z li 20132018 urban big data research centre economic social research council esrc large grant 20142019exploring potential precision nutrient management china pumic stfc newton agritech fund 20152016 rapid resilient application intelligent disaster management stfc newton agritech fund 20142015exemplar smart farm newcastle stfc newton agritech pathfinder programme 20142015ground base synthetic aperture radar gbsar nerc strategic environmental science capital call 2014rae distinguish visit fellowship support dr maorong ge gfz gnss seismology respond large earthquake monitoring infrastructure stability royal academy engineering 20142015 assess performance terrestrial image system topographic mapping nerc national centre earth observation nceo united kingdom 20132014 use high resolution topographic data detect region high seismic hazard space carnegie trust large grant 2012 polarimetric synthetic aperture radar image processing rapid assessment earthquake hazard damage rsencfs international joint project pi z li 20122014 field investigation landslide identify radar interferometry three gorge region china carnegie trust pi z li 2012 gas generic atmosphere solution radar measurement nerc pi z li 20092011 national centre earth observation nceo centre observation model earthquake volcano tectonics comet natural environment research council nerc associate investigator z li 20082012 use advanced insar time series technique map city subsidence jiangsu province china pi z li 20102012 multiwavelength p insar technique application land subsidence eastern china national natural science foundation china nsfc pi guoxiang liu 20112013 sediment compaction yellow river delta china radar interferometry time series analysis carnegie trust pi z li 20102011 use insar map surface crack xi ’ city china pi z li 20092010 use insar map city subsidence jiangsu province china pi z li 20092010 oscar online service correct atmosphere radar nasa pi paul von allmen 20092012 monitor active fault tibet use gpsinsar integrate technique china 863 programme id 2009aa12z317 pi caijun xu 20092010 use space geodesy technique ie gps insar monitor deformation yellow river delta national natural science foundation china nsfc pi xinghua zhou 20062008 conference grant 2008 agu fall meeting san francisco ca usa royal society pi z li 2008 travel award excellent paper present 2008 isprs congress beijing china international society photogrammetry remote sense isprs pi z li 2008 \n",
      "ce\n",
      "https://www.ncl.ac.uk//engineering/staff/profile/zhenhongli.html\n",
      "\n",
      "dr anke neumann \n",
      "researchresearch interestsmy research focus redox process mineralwater interface process impact water quality work span broad range understand fundamental mechanism electron transfer application redox process contaminant transformation removal natural engineer environment work interface environmental engineering soil science biogeochemistry eager address emerge transdisciplinary question related water sustainabilitymy current specific research interest include redox reaction complex biogeochemical environment effect fluctuate redox condition fe mineral reactivity implication feiiinduced process mineral contaminant transformationto address research theme group us variety technique analyze organic inorganic specie aqueous phase hplc gcms gcfid icpms characterize mineral phase infrared spectroscopy atrir drift xray diffraction xrd mössbauer spectroscopy electron microscopy sem tem stable isotope process tracer fund projectscurrent grantsharnessing microbially mediate redox process sustainable water treatment 20192023 epsrc dtp studentship pi coi james kitson newcastle university ukantibacterial clay therapy 2019 institute advanced study durham university grant cowritten pi gary sharples kim jamie durham university uk full team httpswwwduracukias1920projectssharplesproviding last piece puzzle complete understand unusual redox buffer behavior clay mineral 20192020 eawag discretionary fund grant cowritten project colead pi thomas hofstetter eawag switzerland collaborator andreas voegelin eawag switzerland michael sander eth zürich switzerland fabien baron eric ferrage sabine petit university poitier france carolyn pearce pnnl usaquantifying importance different source diffuse pollution miningimpacted river 20182022 nerc iapetus2 dtp studentship coi pi adam jarvis collaborator dr barbara palumboroe bgs case partner british geological survey environment agencyclay mineral sandstone reservoir implication fine migration eor 20182022 nerc cdt oil gas studentship coi pi chris greenwell durham university ukassessing sustainability febearing clay mineral redox reaction application engineer system 20172020 epsrc dtp studentship picompleted grant biologically mediate abiotic degradation chlorinate ethene new conceptual framework 20152018 strategic environmental research development program serdp u department defense dod u department energy doe u environmental protection agency epa copi pi michelle scherer university iowa usa copis david cwiertny drew latta university iowa usa rula deeb deepa ghandi geosyntec consultant usa cleaning water mud clay mineral produce reactive oxidize specie 20152017 epsrc bright idea award pifeiifeiii electron transfer fecontaining clay mineral effect hgii crvi transformation 20112013 snsf postdoctoral fellowship 20112012 dgf postdoctoral fellowship 20122013 piarsenic removal composite iron matrix filter bangladesh 2011 match fund eawag discretionary fund grant cowritten pi hug j kaegi r voegelin eawag switzerlandfactors affect arsenic removal sono filter 20092011 jeunes chercheurs program commission research partnership develop country kfpe cooperation office bangladesh swiss agency development cooperation sdc pireviewerenvironmental science technology geochimica et cosmochimica acta chemical geology chemosphere clay mineral clay clay mineral \n",
      "ce\n",
      "https://www.ncl.ac.uk//engineering/staff/profile/ankeneumann.html\n",
      "\n",
      "dr catherine gandy \n",
      "researchresearch interest mine water pollution prinicpally remediation metal mine discharge source transport fate metal river catchment scale hydrogeology groundwater hydrogeochemcial model couple groundwater flow heat transport model ground source heat objectoriented program postgraduate supervision second supervisor phd student study hydraulic residence time passive mine water treatment system complete 2011part supervisor phd student study source fate dynamic abandon metal mine water pollutant complete 2012second supervisor phd student study resource potential abandon mine site mine water complete 2016second supervisor phd student study source transport fate rare earth element ree uk mining district 2014 present esteem indicator guest editor special issue journal mine water environment mine water reboundguest editor special issue journal environmental geology risk subsidence due evaporite dissolution rose funding coal authority non coal mine water pollution programme \n",
      "ce\n",
      "https://www.ncl.ac.uk//engineering/staff/profile/catherinegandy.html\n",
      "\n",
      "dr david hodgetts \n",
      "research interestsreservoir model digital outcrop analogue sedimentology structural geology \n",
      "es\n",
      "https://www.research.manchester.ac.uk/portal/david.hodgetts.html\n",
      "\n",
      "dr neil mitchell \n",
      "research interestsmarine geology geophysics detail found neils personal web page httppersonalpagesmanchesteracukstaffneilmitchell \n",
      "es\n",
      "https://www.research.manchester.ac.uk/portal/Neil.Mitchell.html\n",
      "\n",
      "prof david schultz \n",
      "research interestsconvective storm synoptic mesoscale meteorology forecasting cloud precipitation microphysics integrate weather social science research earth history climate paleoclimate model air chemistry teach scientific publishing \n",
      "es\n",
      "https://www.research.manchester.ac.uk/portal/david.schultz.html\n",
      "\n",
      "prof david schultz \n",
      "researchmy research eclectic fit number different discipline may interest earth science undergraduate degree geology may like follow nose interest research project benefit work numerous excellent scientist student career world collaboration inspire fuel research interest topic research group work cyclone front convective storm scientific communication weather society earth history operational forecasting snow microphysics arctic climate air chemistry \n",
      "es\n",
      "https://www.research.manchester.ac.uk/portal/david.schultz.html\n",
      "\n",
      "dr kärg kama \n",
      "research orcid httporcidorg0000000220503989scopus author id 55973774400 dr kama ’ doctoral postdoctoral research developed nascent scholary interest resourcemaking practice include contentious scientific practice economic intervention political struggle new component material world render feasible exploration production empirical focus research unconventional fossil fuel also nonenergy material waste dphil thesis entitle unconventional future anticipation materiality market oil shale development offer one first scholarly argument relational processual account resource materiality anticipatory energy economy base detailed analysis oil shale exploitation perpetuate promise future prosperity standardise across disparate geoeconomic environment subsequently transforms carbon economy politics current esrcfunded research project geologics geopolitics collective governance european shale gas development £149196 explores geoscientific dispute geopolitical struggle arise recent uptake ‘ fracking ’ eu country research account epistemologically politically transformative potential resourcemaking controversy reconfiguring expert knowledge production sciencepolicy relation form public activism around extractive economy dr kama ’ wider research concerned nascent field ‘ political geology ’ material economy postcapitalist future currently develop conceptual interest three direction first part broader interdisciplinary initiative develops new materialist approach study relationship geosciences geopolitics building resurgent interest subsurface across social science second together dr gisa weszkalnys lse develop concept resource temporality account diverse engagement time resourcebased economy third kärg continue engage idea performativity economics context alternative ostensibly noncapitalist material economy centre reduce consumption recycle degrowth movement \n",
      "es\n",
      "https://www.birmingham.ac.uk/schools/gees/people/profile.aspx?ReferenceId=157560&Name=dr-kärg-kama\n",
      "\n"
     ]
    }
   ],
   "source": [
    "query = input('Enter search term: ') # search for query\n",
    "query_in.search_query(query) # display according to rank \n",
    "#geology"
   ]
  },
  {
   "cell_type": "code",
   "execution_count": null,
   "metadata": {},
   "outputs": [],
   "source": []
  },
  {
   "cell_type": "markdown",
   "metadata": {},
   "source": [
    "# TEXT CLASSIFICATION"
   ]
  },
  {
   "cell_type": "code",
   "execution_count": 479,
   "metadata": {},
   "outputs": [],
   "source": [
    "from sklearn.model_selection import train_test_split  \n",
    "from sklearn.feature_extraction.text import CountVectorizer \n",
    "from sklearn.ensemble import RandomForestClassifier\n",
    "from sklearn.metrics import classification_report, confusion_matrix, accuracy_score\n",
    "\n",
    "\n",
    "tfidfconv = TfidfTransformer()\n",
    "big_X = big_df['research']\n",
    "\n",
    "vectorizer = CountVectorizer(max_features=1500, min_df=5, max_df=0.7, stop_words=stopwords.words('english'))  \n",
    "\n",
    "X = vectorizer.fit_transform(big_X).toarray() \n",
    "y = big_df['field'] "
   ]
  },
  {
   "cell_type": "code",
   "execution_count": 475,
   "metadata": {},
   "outputs": [],
   "source": [
    "X_train, X_test, y_train, y_test = train_test_split(X, y, test_size=0.2, random_state=0)"
   ]
  },
  {
   "cell_type": "code",
   "execution_count": 511,
   "metadata": {},
   "outputs": [],
   "source": [
    "clf = RandomForestClassifier(n_estimators=1000, random_state=0)  \n",
    "clf.fit(X_train, y_train) "
   ]
  },
  {
   "cell_type": "code",
   "execution_count": 477,
   "metadata": {},
   "outputs": [],
   "source": [
    "y_pred = clf.predict(X_test)"
   ]
  },
  {
   "cell_type": "code",
   "execution_count": 488,
   "metadata": {},
   "outputs": [
    {
     "name": "stdout",
     "output_type": "stream",
     "text": [
      "[[48  2  8]\n",
      " [ 3  4  1]\n",
      " [ 6  1 37]]\n",
      "              precision    recall  f1-score   support\n",
      "\n",
      "          ce       0.84      0.83      0.83        58\n",
      "          cs       0.57      0.50      0.53         8\n",
      "          es       0.80      0.84      0.82        44\n",
      "\n",
      "    accuracy                           0.81       110\n",
      "   macro avg       0.74      0.72      0.73       110\n",
      "weighted avg       0.81      0.81      0.81       110\n",
      "\n",
      "0.8090909090909091\n"
     ]
    }
   ],
   "source": [
    "print(confusion_matrix(y_test,y_pred))  \n",
    "print(classification_report(y_test,y_pred))  \n",
    "print(accuracy_score(y_test, y_pred))"
   ]
  },
  {
   "cell_type": "code",
   "execution_count": null,
   "metadata": {},
   "outputs": [],
   "source": []
  }
 ],
 "metadata": {
  "kernelspec": {
   "display_name": "Python 3",
   "language": "python",
   "name": "python3"
  },
  "language_info": {
   "codemirror_mode": {
    "name": "ipython",
    "version": 3
   },
   "file_extension": ".py",
   "mimetype": "text/x-python",
   "name": "python",
   "nbconvert_exporter": "python",
   "pygments_lexer": "ipython3",
   "version": "3.6.10"
  }
 },
 "nbformat": 4,
 "nbformat_minor": 4
}
